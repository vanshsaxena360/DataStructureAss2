{
 "cells": [
  {
   "cell_type": "raw",
   "id": "aff721a4-56d5-41f5-9fb4-110cec3ac9d0",
   "metadata": {},
   "source": [
    "Q1. How do you comment code in Python? What are the different types of comments?\n",
    "Ans. There are 2 types of comments are present in PYTHON\n",
    "    1. starts with # (Single Line Comment)\n",
    "    2. starts and ends with \"\"\" \"\"\" (Multi Line Comment)"
   ]
  },
  {
   "cell_type": "code",
   "execution_count": 1,
   "id": "d6cac3b2-8934-4f05-8328-3e6e689b3f5e",
   "metadata": {},
   "outputs": [
    {
     "data": {
      "text/plain": [
       "'This\\nis\\na \\nmulti line\\ncomment'"
      ]
     },
     "execution_count": 1,
     "metadata": {},
     "output_type": "execute_result"
    }
   ],
   "source": [
    "# This is the single line comment\n",
    "\"\"\"This\n",
    "is\n",
    "a \n",
    "multi line\n",
    "comment\"\"\""
   ]
  },
  {
   "cell_type": "code",
   "execution_count": 2,
   "id": "c1651f02-d392-4cfc-8105-7907d83bbd38",
   "metadata": {},
   "outputs": [],
   "source": [
    "# Q2. What are variables in Python? How do you declare and assign values to variables?\n",
    "\n",
    "# variables are use to assign a value to a name for indicate a variable\n",
    "# There are many permitation and combination can be occured by a variable decleration\n",
    "a = 10\n",
    "_a = 10\n",
    "a1 = 10\n",
    "a_a = 10\n",
    "a_ = 10"
   ]
  },
  {
   "cell_type": "code",
   "execution_count": 3,
   "id": "b0acec70-0ff8-4b5c-add7-07942f9af0b7",
   "metadata": {},
   "outputs": [
    {
     "data": {
      "text/plain": [
       "'34'"
      ]
     },
     "execution_count": 3,
     "metadata": {},
     "output_type": "execute_result"
    }
   ],
   "source": [
    "# Q3. How do you convert one data type to another in Python?\n",
    "\n",
    "a = 34\n",
    "a = str(a)\n",
    "a"
   ]
  },
  {
   "cell_type": "code",
   "execution_count": 4,
   "id": "f7df718d-a25c-4523-bb25-f70f6f08fa67",
   "metadata": {},
   "outputs": [],
   "source": [
    "# Q4. How do you write and execute a Python script from the command line?\n",
    "\n",
    "# creating a file in your local storage and open cmd in that folder then give the path of the python file like \"python main.py\""
   ]
  },
  {
   "cell_type": "code",
   "execution_count": 5,
   "id": "d1bce844-178f-46d4-8d2e-2d17e80309b8",
   "metadata": {},
   "outputs": [
    {
     "data": {
      "text/plain": [
       "[2, 3]"
      ]
     },
     "execution_count": 5,
     "metadata": {},
     "output_type": "execute_result"
    }
   ],
   "source": [
    "# Q5. Given a list my_list = [1, 2, 3, 4, 5], write the code to slice the list and obtain the sub-list [2, 3].\n",
    "\n",
    "my_list = [1,2,3,4,5]\n",
    "my_list[1:3]"
   ]
  },
  {
   "cell_type": "code",
   "execution_count": null,
   "id": "ca818ebb-a4c2-49b9-8acf-dbf0385fb3da",
   "metadata": {},
   "outputs": [],
   "source": []
  },
  {
   "cell_type": "code",
   "execution_count": 7,
   "id": "3863a99f-24a2-4966-baf5-f49416a887dc",
   "metadata": {},
   "outputs": [
    {
     "data": {
      "text/plain": [
       "complex"
      ]
     },
     "execution_count": 7,
     "metadata": {},
     "output_type": "execute_result"
    }
   ],
   "source": [
    "# Q6. What is a complex number in mathematics, and how is it represented in Python?\n",
    "\n",
    "# complex number in mathematics =a complex number is a number that can be expressed in the form a + bi, \n",
    "# where a and b are real numbers, and i is the imaginary unit. The imaginary unit i is defined as the square root of -1.\n",
    "a_complex = 5+6j\n",
    "type(a_complex)"
   ]
  },
  {
   "cell_type": "code",
   "execution_count": 8,
   "id": "55c3f922-6a96-441d-8e3b-53138143c2ce",
   "metadata": {},
   "outputs": [],
   "source": [
    "# Q7. What is the correct way to declare a variable named age and assign the value 25 to it?\n",
    "\n",
    "age = 25"
   ]
  },
  {
   "cell_type": "code",
   "execution_count": 9,
   "id": "89f940b7-6672-45bd-8506-94e6ce15b2b9",
   "metadata": {},
   "outputs": [
    {
     "data": {
      "text/plain": [
       "float"
      ]
     },
     "execution_count": 9,
     "metadata": {},
     "output_type": "execute_result"
    }
   ],
   "source": [
    "# Q8. Declare a variable named price and assign the value 9.99 to it. What data type does this variable belong to?\n",
    "\n",
    "price = 9.99\n",
    "type(price)"
   ]
  },
  {
   "cell_type": "code",
   "execution_count": 10,
   "id": "093fa1c9-4620-48f7-b67e-69ce036051b6",
   "metadata": {},
   "outputs": [
    {
     "name": "stdout",
     "output_type": "stream",
     "text": [
      "Vansh Saxena\n"
     ]
    }
   ],
   "source": [
    "# Q9. Create a variable named name and assign your full name to it as a string. How would you print the value of this variable?\n",
    "\n",
    "name = \"Vansh Saxena\"\n",
    "print(name)"
   ]
  },
  {
   "cell_type": "code",
   "execution_count": 11,
   "id": "9a77b253-0faa-4a3d-8122-2722f6f10ac9",
   "metadata": {},
   "outputs": [
    {
     "data": {
      "text/plain": [
       "'World'"
      ]
     },
     "execution_count": 11,
     "metadata": {},
     "output_type": "execute_result"
    }
   ],
   "source": [
    "# Q10. Given the string \"Hello, World!\", extract the substring \"World\".\n",
    "\n",
    "a = \"Hello World!\"\n",
    "a[6:11]"
   ]
  },
  {
   "cell_type": "code",
   "execution_count": null,
   "id": "fe4c2fc3-c90e-4f20-ae90-4036e61cf4c1",
   "metadata": {},
   "outputs": [],
   "source": [
    "# Q11. Create a variable named \"is_student\" and assign it a boolean value indicating whether you are currently a student or not.\n",
    "\n",
    "is_student = True"
   ]
  }
 ],
 "metadata": {
  "kernelspec": {
   "display_name": "Python 3 (ipykernel)",
   "language": "python",
   "name": "python3"
  },
  "language_info": {
   "codemirror_mode": {
    "name": "ipython",
    "version": 3
   },
   "file_extension": ".py",
   "mimetype": "text/x-python",
   "name": "python",
   "nbconvert_exporter": "python",
   "pygments_lexer": "ipython3",
   "version": "3.10.8"
  }
 },
 "nbformat": 4,
 "nbformat_minor": 5
}
